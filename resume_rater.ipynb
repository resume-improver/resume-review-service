{
 "cells": [
  {
   "cell_type": "code",
   "execution_count": 26,
   "id": "82e28fd7",
   "metadata": {},
   "outputs": [],
   "source": [
    "import requests\n",
    "import argparse\n",
    "import json\n",
    "from dotenv import load_dotenv\n",
    "import os"
   ]
  },
  {
   "cell_type": "code",
   "execution_count": 29,
   "id": "5c91867d",
   "metadata": {},
   "outputs": [
    {
     "data": {
      "text/plain": [
       "True"
      ]
     },
     "execution_count": 29,
     "metadata": {},
     "output_type": "execute_result"
    }
   ],
   "source": [
    "load_dotenv()"
   ]
  },
  {
   "cell_type": "code",
   "execution_count": 31,
   "id": "88a5c8ba",
   "metadata": {},
   "outputs": [],
   "source": [
    "def run_resume_rating(resume, vacancy):\n",
    "    data = {}\n",
    "    data['modelUri'] = f'gpt://{os.getenv('FOLDER_ID')}/yandexgpt'\n",
    "    data['completionOptions'] = {'temperature': 0.5, 'maxTokens': 3000}\n",
    "    data['messages'] = [\n",
    "        {'role': 'system',\n",
    "         'text': 'Ты помощник соискателя. Твоя задача - помочь соискателю составить привлекательное для работодателя профессиональное резюме'\n",
    "         'Составь оценочную характеристику резюме. Укажи на недостатки и предложи изменения. После чего - составь черновой вариант изменения, опираясь на предложенные правки'\n",
    "         'Используй информацию из предложенных резюме и вакансии'\n",
    "         'Не указывай ложную информацию в резюме'\n",
    "         'Не рекомендуй пользователю лгать в резюме'},\n",
    "         {'role': 'user',\n",
    "          'text': f'Резюме \\n {resume} \\n \\n для вакансии \\n {vacancy}'}\n",
    "    ]\n",
    "\n",
    "    response = requests.post(\n",
    "        \"https://llm.api.cloud.yandex.net/foundationModels/v1/completion\",\n",
    "        headers={\n",
    "            \"Accept\": \"application/json\",\n",
    "            \"Authorization\": f\"Api-Key {os.getenv('api_key')}\"\n",
    "        },\n",
    "        json=data,\n",
    "    ).json()\n",
    "\n",
    "    #text - response['result']['alternatives'][0]['message']['text']\n",
    "    return response"
   ]
  },
  {
   "cell_type": "code",
   "execution_count": 3,
   "id": "9a69524f",
   "metadata": {},
   "outputs": [],
   "source": [
    "def parse_json(name):\n",
    "    with open(name, 'r', encoding='utf-8') as file:\n",
    "        data = json.load(file)\n",
    "\n",
    "    lines = []\n",
    "\n",
    "    for key, value in data.items():\n",
    "        if isinstance(value, list):\n",
    "            lines.append(f'{key}: {' '.join(value)}')\n",
    "        else:\n",
    "            lines.append(f'{key}: {value}')\n",
    "        \n",
    "    line = '\\n'.join(lines)\n",
    "    return line"
   ]
  },
  {
   "cell_type": "code",
   "execution_count": 4,
   "id": "56bfc4d8",
   "metadata": {},
   "outputs": [],
   "source": [
    "resume_path = 'resume.json'\n",
    "vacancy_path = 'vacancy.json'\n",
    "resume = parse_json(resume_path)\n",
    "vacancy = parse_json(vacancy_path)"
   ]
  },
  {
   "cell_type": "code",
   "execution_count": 5,
   "id": "d933fdc1",
   "metadata": {},
   "outputs": [
    {
     "name": "stdout",
     "output_type": "stream",
     "text": [
      "ФИО: Данил Красников\n",
      "Опыт_работы: ML-инженер 5 лет в Росатом\n",
      "Хард_скиллы: Python Jupiter PyTorch ComputerVision Apache Airflow\n",
      "Софт_скиллы: Прекрасно работаю в команде Умею обучать людей Выступаю на научиных конференциях\n",
      "Контакты: телегерам @mlkrasnikov\n",
      "Образование: кандидат технических наук\n",
      "Проекты: Системма банковского скоринга Поиск аномалий с использованием итерпретируемого ИИ\n",
      "Компания: МФЦ Полюс\n",
      "Требуемый опыт работы: 5 лет\n",
      "Требуемые hard-skills: Python C++ TensorFlow NLP Apache Airflow SQL\n",
      "Требуемые soft-skills: Умение работать в команде Стрессоустойчивость Умение правильно излагать и доносить свои мысли\n",
      "Ключевые задачи: Разработка чат-ботов для абитуентов университета Проектирование производственных справочных систем для добычи золота\n"
     ]
    }
   ],
   "source": [
    "print(resume)\n",
    "print(vacancy)"
   ]
  },
  {
   "cell_type": "code",
   "execution_count": 32,
   "id": "54cbc106",
   "metadata": {},
   "outputs": [
    {
     "name": "stdout",
     "output_type": "stream",
     "text": [
      "**Оценочная характеристика резюме:**\n",
      "\n",
      "**Преимущества:**\n",
      "* Соответствующий опыт работы (5 лет).\n",
      "* Наличие образования (кандидат технических наук).\n",
      "* Опыт работы с некоторыми требуемыми инструментами (Python, Apache Airflow).\n",
      "\n",
      "**Недостатки:**\n",
      "* Неполный набор хард-скиллов (нет опыта работы с C++, TensorFlow, NLP, SQL).\n",
      "* Неполное описание проектов (нет информации о технологиях, которые использовались в проектах).\n",
      "* Отсутствие информации о стрессоустойчивости и умении правильно излагать и доносить свои мысли.\n",
      "\n",
      "**Рекомендации по улучшению резюме:**\n",
      "* Добавить информацию об опыте работы с требуемыми инструментами (если таковой имеется).\n",
      "* Подробно описать проекты, указав используемые технологии и достижения.\n",
      "* Включить примеры из опыта работы, демонстрирующие умение работать в команде и справляться со стрессом.\n",
      "\n",
      "**Черновой вариант изменённого резюме:**\n",
      "\n",
      "ФИО: Данил Красников\n",
      "\n",
      "Опыт работы: ML-инженер, 5 лет в Росатоме\n",
      "\n",
      "Хард-скиллы: Python, Jupiter, PyTorch, Computer Vision, Apache Airflow. Также работал с SQL и изучаю TensorFlow и NLP.\n",
      "\n",
      "Софт-скиллы: умею работать в команде, обучать людей, выступать на научных конференциях. Способен сохранять концентрацию и эффективность в условиях многозадачности и стресса.\n",
      "\n",
      "Контакты: Telegram @mlkrasnikov\n",
      "\n",
      "Образование: кандидат технических наук\n",
      "\n",
      "Проекты:\n",
      "* Система банковского скоринга: разработка модели для прогнозирования кредитного риска с использованием машинного обучения.\n",
      "* Поиск аномалий с использованием интерпретируемого ИИ: разработка алгоритма для обнаружения аномалий в данных с использованием методов интерпретируемого машинного обучения.\n",
      "\n",
      "Дополнительно:\n",
      "* Участвовал в разработке чат-ботов для внутренних нужд компании.\n",
      "* Проводил тренинги для коллег по использованию машинного обучения в их работе.\n"
     ]
    }
   ],
   "source": [
    "letter = run_resume_rating(resume, vacancy)\n",
    "print(letter['result']['alternatives'][0]['message']['text'])"
   ]
  }
 ],
 "metadata": {
  "kernelspec": {
   "display_name": "Python 3",
   "language": "python",
   "name": "python3"
  },
  "language_info": {
   "codemirror_mode": {
    "name": "ipython",
    "version": 3
   },
   "file_extension": ".py",
   "mimetype": "text/x-python",
   "name": "python",
   "nbconvert_exporter": "python",
   "pygments_lexer": "ipython3",
   "version": "3.13.5"
  }
 },
 "nbformat": 4,
 "nbformat_minor": 5
}
